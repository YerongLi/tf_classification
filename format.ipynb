{
 "cells": [
  {
   "cell_type": "code",
   "execution_count": 2,
   "metadata": {},
   "outputs": [
    {
     "ename": "AttributeError",
     "evalue": "'dict_keys' object has no attribute 'sort'",
     "output_type": "error",
     "traceback": [
      "\u001b[0;31m---------------------------------------------------------------------------\u001b[0m",
      "\u001b[0;31mAttributeError\u001b[0m                            Traceback (most recent call last)",
      "\u001b[0;32m<ipython-input-2-3883203fc976>\u001b[0m in \u001b[0;36m<module>\u001b[0;34m()\u001b[0m\n\u001b[1;32m     13\u001b[0m \u001b[0;34m\u001b[0m\u001b[0m\n\u001b[1;32m     14\u001b[0m \u001b[0;31m# Now we can create the datasets\u001b[0m\u001b[0;34m\u001b[0m\u001b[0;34m\u001b[0m\u001b[0m\n\u001b[0;32m---> 15\u001b[0;31m \u001b[0mtrain\u001b[0m\u001b[0;34m,\u001b[0m \u001b[0mtest\u001b[0m \u001b[0;34m=\u001b[0m \u001b[0mformat_dataset\u001b[0m\u001b[0;34m(\u001b[0m\u001b[0mcub_dataset_dir\u001b[0m\u001b[0;34m,\u001b[0m \u001b[0mcub_image_dir\u001b[0m\u001b[0;34m)\u001b[0m\u001b[0;34m\u001b[0m\u001b[0m\n\u001b[0m\u001b[1;32m     16\u001b[0m \u001b[0mtrain\u001b[0m\u001b[0;34m,\u001b[0m \u001b[0mval\u001b[0m \u001b[0;34m=\u001b[0m \u001b[0mcreate_validation_split\u001b[0m\u001b[0;34m(\u001b[0m\u001b[0mtrain\u001b[0m\u001b[0;34m,\u001b[0m \u001b[0mfraction_per_class\u001b[0m\u001b[0;34m=\u001b[0m\u001b[0;36m0.1\u001b[0m\u001b[0;34m,\u001b[0m \u001b[0mshuffle\u001b[0m\u001b[0;34m=\u001b[0m\u001b[0;32mTrue\u001b[0m\u001b[0;34m)\u001b[0m\u001b[0;34m\u001b[0m\u001b[0m\n",
      "\u001b[0;32m~/Documents/cub/format_cub_dataset_parts.py\u001b[0m in \u001b[0;36mformat_dataset\u001b[0;34m(dataset_path, image_path_prefix)\u001b[0m\n\u001b[1;32m    149\u001b[0m   \u001b[0mimage_paths\u001b[0m \u001b[0;34m=\u001b[0m \u001b[0mload_image_paths\u001b[0m\u001b[0;34m(\u001b[0m\u001b[0mdataset_path\u001b[0m\u001b[0;34m,\u001b[0m \u001b[0mimage_path_prefix\u001b[0m\u001b[0;34m)\u001b[0m\u001b[0;34m\u001b[0m\u001b[0m\n\u001b[1;32m    150\u001b[0m   \u001b[0mimage_sizes\u001b[0m \u001b[0;34m=\u001b[0m \u001b[0mload_image_sizes\u001b[0m\u001b[0;34m(\u001b[0m\u001b[0mdataset_path\u001b[0m\u001b[0;34m)\u001b[0m\u001b[0;34m\u001b[0m\u001b[0m\n\u001b[0;32m--> 151\u001b[0;31m   \u001b[0mimage_bboxes\u001b[0m \u001b[0;34m=\u001b[0m \u001b[0mload_bounding_box_annotations\u001b[0m\u001b[0;34m(\u001b[0m\u001b[0mdataset_path\u001b[0m\u001b[0;34m)\u001b[0m\u001b[0;34m\u001b[0m\u001b[0m\n\u001b[0m\u001b[1;32m    152\u001b[0m   \u001b[0mimage_parts\u001b[0m \u001b[0;34m=\u001b[0m \u001b[0mload_part_annotations\u001b[0m\u001b[0;34m(\u001b[0m\u001b[0mdataset_path\u001b[0m\u001b[0;34m)\u001b[0m\u001b[0;34m\u001b[0m\u001b[0m\n\u001b[1;32m    153\u001b[0m   \u001b[0mimage_labels\u001b[0m\u001b[0;34m,\u001b[0m \u001b[0mnew_label_to_original_label_map\u001b[0m \u001b[0;34m=\u001b[0m \u001b[0mformat_labels\u001b[0m\u001b[0;34m(\u001b[0m\u001b[0mload_image_labels\u001b[0m\u001b[0;34m(\u001b[0m\u001b[0mdataset_path\u001b[0m\u001b[0;34m)\u001b[0m\u001b[0;34m)\u001b[0m\u001b[0;34m\u001b[0m\u001b[0m\n",
      "\u001b[0;32m~/Documents/cub/format_cub_dataset_parts.py\u001b[0m in \u001b[0;36mload_part_annotations\u001b[0;34m(dataset_path)\u001b[0m\n\u001b[1;32m     87\u001b[0m   \u001b[0;32mfor\u001b[0m \u001b[0mimage_id\u001b[0m\u001b[0;34m,\u001b[0m \u001b[0mparts_dict\u001b[0m \u001b[0;32min\u001b[0m \u001b[0mparts_d\u001b[0m\u001b[0;34m.\u001b[0m\u001b[0mitems\u001b[0m\u001b[0;34m(\u001b[0m\u001b[0;34m)\u001b[0m\u001b[0;34m:\u001b[0m\u001b[0;34m\u001b[0m\u001b[0m\n\u001b[1;32m     88\u001b[0m     \u001b[0mkeys\u001b[0m \u001b[0;34m=\u001b[0m \u001b[0mparts_dict\u001b[0m\u001b[0;34m.\u001b[0m\u001b[0mkeys\u001b[0m\u001b[0;34m(\u001b[0m\u001b[0;34m)\u001b[0m\u001b[0;34m\u001b[0m\u001b[0m\n\u001b[0;32m---> 89\u001b[0;31m     \u001b[0;31m#keys.sort()\u001b[0m\u001b[0;34m\u001b[0m\u001b[0;34m\u001b[0m\u001b[0m\n\u001b[0m\u001b[1;32m     90\u001b[0m     \u001b[0mkeys\u001b[0m \u001b[0;34m=\u001b[0m \u001b[0msorted\u001b[0m\u001b[0;34m(\u001b[0m\u001b[0mkeys\u001b[0m\u001b[0;34m)\u001b[0m\u001b[0;34m\u001b[0m\u001b[0m\n\u001b[1;32m     91\u001b[0m     \u001b[0mparts_list\u001b[0m \u001b[0;34m=\u001b[0m \u001b[0;34m[\u001b[0m\u001b[0;34m]\u001b[0m\u001b[0;34m\u001b[0m\u001b[0m\n",
      "\u001b[0;31mAttributeError\u001b[0m: 'dict_keys' object has no attribute 'sort'"
     ]
    }
   ],
   "source": [
    "#%%cpaste\n",
    "\n",
    "from format_cub_dataset_parts import create_image_sizes_file, format_dataset, create_validation_split\n",
    "# Change these paths to match the location of the CUB dataset on your machine \n",
    "cub_dataset_dir = \"/home/yerong/Downloads/CUB_200_2011/CUB_200_2011/\"\n",
    "cub_image_dir = \"/home/yerong/Downloads/CUB_200_2011/CUB_200_2011/images\"\n",
    "\n",
    "# we need to create a file containing the size of each image in the dataset. \n",
    "# you only need to do this once. scipy is required for this method. \n",
    "# Alternatively, you can create this file yourself. \n",
    "# Each line of the file should have <image_id> <width> <height>\n",
    "create_image_sizes_file(cub_dataset_dir, cub_image_dir)\n",
    "\n",
    "# Now we can create the datasets\n",
    "train, test = format_dataset(cub_dataset_dir, cub_image_dir)\n",
    "train, val = create_validation_split(train, fraction_per_class=0.1, shuffle=True)\n"
   ]
  }
 ],
 "metadata": {
  "kernelspec": {
   "display_name": "Python 3",
   "language": "python",
   "name": "python3"
  },
  "language_info": {
   "codemirror_mode": {
    "name": "ipython",
    "version": 3
   },
   "file_extension": ".py",
   "mimetype": "text/x-python",
   "name": "python",
   "nbconvert_exporter": "python",
   "pygments_lexer": "ipython3",
   "version": "3.6.3"
  }
 },
 "nbformat": 4,
 "nbformat_minor": 2
}
