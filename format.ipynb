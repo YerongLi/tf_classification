{
 "cells": [
  {
   "cell_type": "code",
   "execution_count": 1,
   "metadata": {},
   "outputs": [],
   "source": [
    "#%%cpaste\n",
    "\n",
    "from format_cub_dataset_parts import create_image_sizes_file, format_dataset, create_validation_split\n",
    "# Change these paths to match the location of the CUB dataset on your machine \n",
    "cub_dataset_dir = \"/home/yerong/Downloads/CUB_200_2011/CUB_200_2011/\"\n",
    "cub_image_dir = \"/home/yerong/Downloads/CUB_200_2011/CUB_200_2011/images\"\n",
    "\n",
    "# we need to create a file containing the size of each image in the dataset. \n",
    "# you only need to do this once. scipy is required for this method. \n",
    "# Alternatively, you can create this file yourself. \n",
    "# Each line of the file should have <image_id> <width> <height>\n",
    "create_image_sizes_file(cub_dataset_dir, cub_image_dir)\n",
    "\n",
    "# Now we can create the datasets\n",
    "train, test = format_dataset(cub_dataset_dir, cub_image_dir)\n",
    "train, val = create_validation_split(train, fraction_per_class=0.1, shuffle=True)\n"
   ]
  },
  {
   "cell_type": "code",
   "execution_count": 12,
   "metadata": {},
   "outputs": [
    {
     "name": "stdout",
     "output_type": "stream",
     "text": [
      "5394 5794 600\n",
      "{'class': {'text': '132.White_crowned_Sparrow', 'label': 131}, 'object': {'count': 1, 'area': [44835], 'parts': {'y': [0.5361842105263158, 0.5, 0.7763157894736842, 0.6743421052631579, 0.41118421052631576, 0.46381578947368424, 0.4868421052631579, 0.9144736842105263, 0.6414473684210527, 0.4901315789473684, 0.0, 0.9144736842105263, 0.0, 0.8322368421052632, 0.5328947368421053], 'x': [0.658, 0.516, 0.554, 0.528, 0.566, 0.528, 0.564, 0.634, 0.656, 0.618, 0.0, 0.69, 0.0, 0.878, 0.526], 'v': [1, 1, 1, 1, 1, 1, 1, 1, 1, 1, 0, 1, 0, 1, 1]}, 'bbox': {'ymax': [0.9769736842105263], 'text': ['132.White_crowned_Sparrow'], 'label': [131], 'xmax': [0.978], 'xmin': [0.488], 'ymin': [0.375]}, 'id': ['7696']}, 'id': '7696', 'filename': '/home/yerong/Downloads/CUB_200_2011/CUB_200_2011/images/132.White_crowned_Sparrow/White_Crowned_Sparrow_0122_128577.jpg'}\n",
      "{'class': {'text': '001.Black_footed_Albatross', 'label': 0}, 'object': {'count': 1, 'area': [98800], 'parts': {'y': [0.0, 0.5432835820895522, 0.0, 0.0, 0.13432835820895522, 0.23582089552238805, 0.0, 0.0, 0.0, 0.6597014925373135, 0.30149253731343284, 0.0, 0.0, 0.0, 0.5791044776119403], 'x': [0.0, 0.624, 0.0, 0.0, 0.372, 0.494, 0.0, 0.0, 0.0, 0.2, 0.366, 0.0, 0.0, 0.0, 0.43], 'v': [0, 1, 0, 0, 1, 1, 0, 0, 0, 1, 1, 0, 0, 0, 1]}, 'bbox': {'ymax': [0.9880597014925373], 'text': ['001.Black_footed_Albatross'], 'label': [0], 'xmax': [0.77], 'xmin': [0.12], 'ymin': [0.08059701492537313]}, 'id': ['1']}, 'id': '1', 'filename': '/home/yerong/Downloads/CUB_200_2011/CUB_200_2011/images/001.Black_footed_Albatross/Black_Footed_Albatross_0046_18.jpg'}\n"
     ]
    }
   ],
   "source": [
    "print len(train), len(test), len(val)\n",
    "print train[0]\n",
    "print test[0]"
   ]
  }
 ],
 "metadata": {
  "kernelspec": {
   "display_name": "Python 2",
   "language": "python",
   "name": "python2"
  },
  "language_info": {
   "codemirror_mode": {
    "name": "ipython",
    "version": 2
   },
   "file_extension": ".py",
   "mimetype": "text/x-python",
   "name": "python",
   "nbconvert_exporter": "python",
   "pygments_lexer": "ipython2",
   "version": "2.7.11"
  }
 },
 "nbformat": 4,
 "nbformat_minor": 2
}
