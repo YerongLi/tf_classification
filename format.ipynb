{
 "cells": [
  {
   "cell_type": "code",
   "execution_count": 1,
   "metadata": {},
   "outputs": [],
   "source": [
    "#%%cpaste\n",
    "\n",
    "from format_cub_dataset_parts import create_image_sizes_file, format_dataset, create_validation_split\n",
    "# Change these paths to match the location of the CUB dataset on your machine \n",
    "cub_dataset_dir = \"/home/yerong/Downloads/CUB_200_2011/CUB_200_2011/\"\n",
    "cub_image_dir = \"/home/yerong/Downloads/CUB_200_2011/CUB_200_2011/images\"\n",
    "\n",
    "# we need to create a file containing the size of each image in the dataset. \n",
    "# you only need to do this once. scipy is required for this method. \n",
    "# Alternatively, you can create this file yourself. \n",
    "# Each line of the file should have <image_id> <width> <height>\n",
    "create_image_sizes_file(cub_dataset_dir, cub_image_dir)\n",
    "\n",
    "# Now we can create the datasets\n",
    "train, test = format_dataset(cub_dataset_dir, cub_image_dir)\n",
    "train, val = create_validation_split(train, fraction_per_class=0.1, shuffle=True)\n"
   ]
  },
  {
   "cell_type": "code",
   "execution_count": 7,
   "metadata": {},
   "outputs": [
    {
     "name": "stdout",
     "output_type": "stream",
     "text": [
      "5394 5794 600\n"
     ]
    }
   ],
   "source": [
    "print len(train), len(test), len(val)"
   ]
  }
 ],
 "metadata": {
  "kernelspec": {
   "display_name": "Python 2",
   "language": "python",
   "name": "python2"
  },
  "language_info": {
   "codemirror_mode": {
    "name": "ipython",
    "version": 2
   },
   "file_extension": ".py",
   "mimetype": "text/x-python",
   "name": "python",
   "nbconvert_exporter": "python",
   "pygments_lexer": "ipython2",
   "version": "2.7.11"
  }
 },
 "nbformat": 4,
 "nbformat_minor": 2
}
